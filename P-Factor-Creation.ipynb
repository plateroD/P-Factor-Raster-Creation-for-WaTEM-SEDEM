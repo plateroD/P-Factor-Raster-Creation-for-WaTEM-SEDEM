{
 "cells": [
  {
   "cell_type": "markdown",
   "id": "78ff6f63",
   "metadata": {},
   "source": [
    "# 1. Example alignment step (simplified):"
   ]
  },
  {
   "cell_type": "code",
   "execution_count": null,
   "id": "c96643ab",
   "metadata": {},
   "outputs": [
    {
     "name": "stdout",
     "output_type": "stream",
     "text": [
      "Done. Wrote: C:\\Users\\dplatero\\watem-sedem-master\\watem_sedem\\Beamon_Creek_Boyer_River\\Output\\BCR.rst\n"
     ]
    }
   ],
   "source": [
    "from osgeo import gdal\n",
    "\n",
    "ref = r\"path\\to\\DTM.rst\"\n",
    "src = r\"path\\to\\PFac.tif\"\n",
    "tmp_aligned = r\"path\\to\\PFac_aligned.rst\"\n",
    "\n",
    "ref_ds = gdal.Open(ref)\n",
    "gt = ref_ds.GetGeoTransform()\n",
    "proj = ref_ds.GetProjection()\n",
    "W, H = ref_ds.RasterXSize, ref_ds.RasterYSize\n",
    "xmin, xres, ymax, yres = gt[0], gt[1], gt[3], gt[5]\n",
    "xmax = xmin + W * xres\n",
    "ymin = ymax + H * yres\n",
    "\n",
    "gdal.Warp(\n",
    "    tmp_aligned, src,\n",
    "    format=\"RST\",\n",
    "    dstSRS=proj,\n",
    "    outputBounds=(xmin, ymin, xmax, ymax),\n",
    "    xRes=abs(xres), yRes=abs(yres),\n",
    "    width=W, height=H,\n",
    "    resampleAlg=\"near\",\n",
    "    dstNodata=0,\n",
    "    outputType=gdal.GDT_Float32,\n",
    "    targetAlignedPixels=True\n",
    ")\n"
   ]
  },
  {
   "cell_type": "markdown",
   "id": "fd2afc21",
   "metadata": {},
   "source": [
    "# 2. Clean and snap to valid P-factor classes\n",
    "Once aligned, we cleaned the raster to remove invalid values and force all valid pixels to one of the three known P-factor classes."
   ]
  },
  {
   "cell_type": "code",
   "execution_count": null,
   "id": "7c6b80d7",
   "metadata": {},
   "outputs": [],
   "source": [
    "from osgeo import gdal\n",
    "import numpy as np\n",
    "\n",
    "in_rst  = r\"path\\to\\PFac_aligned.rst\"\n",
    "out_rst = r\"path\\to\\PFac_clean.rst\"\n",
    "\n",
    "# Open aligned raster\n",
    "ds = gdal.Open(in_rst, gdal.GA_ReadOnly)\n",
    "arr = ds.GetRasterBand(1).ReadAsArray().astype(np.float32)\n",
    "\n",
    "# Step 1: Replace non-finite and out-of-range values with 0\n",
    "arr[~np.isfinite(arr)] = 0\n",
    "arr[(arr < 0) | (arr > 1)] = 0\n",
    "\n",
    "# Step 2: Snap to known P classes\n",
    "classes = np.array([0.02, 0.2, 0.6], dtype=np.float32)\n",
    "mask = arr > 0  # exclude NoData\n",
    "if mask.any():\n",
    "    diffs = np.abs(arr[mask, None] - classes[None, :])\n",
    "    arr[mask] = classes[np.argmin(diffs, axis=1)]\n",
    "\n",
    "# Step 3: Write out as RST with Float32 and NoData=0\n",
    "drv = gdal.GetDriverByName(\"RST\")\n",
    "out = drv.Create(out_rst, ds.RasterXSize, ds.RasterYSize, 1, gdal.GDT_Float32)\n",
    "out.SetGeoTransform(ds.GetGeoTransform())\n",
    "out.SetProjection(ds.GetProjection())\n",
    "b = out.GetRasterBand(1)\n",
    "b.WriteArray(arr)\n",
    "b.SetNoDataValue(0)\n",
    "b.FlushCache()\n",
    "\n",
    "out, ds = None, None\n",
    "print(f\"Wrote: {out_rst}\")\n"
   ]
  },
  {
   "cell_type": "markdown",
   "id": "6047bbd7",
   "metadata": {},
   "source": [
    "# 3. Validation"
   ]
  },
  {
   "cell_type": "code",
   "execution_count": null,
   "id": "161c8b1a",
   "metadata": {},
   "outputs": [],
   "source": [
    "ds = gdal.Open(out_rst)\n",
    "band = ds.GetRasterBand(1)\n",
    "print(\"Min:\", band.GetMinimum())\n",
    "print(\"Max:\", band.GetMaximum())\n",
    "print(\"NoData:\", band.GetNoDataValue())\n"
   ]
  },
  {
   "cell_type": "markdown",
   "id": "c12ab997",
   "metadata": {},
   "source": [
    "# 4. Expected:\n",
    "\n",
    "Min ≈ 0.02\n",
    "\n",
    "Max ≈ 0.6\n",
    "\n",
    "NoData = 0\n",
    "\n",
    "Pixel dimensions, CRS, and extent match DTM.rst"
   ]
  },
  {
   "cell_type": "markdown",
   "id": "f72c9b62",
   "metadata": {},
   "source": [
    "# 5. Lessons Learned\n",
    "\n",
    "Always align categorical rasters with nearest resampling.\n",
    "\n",
    "Set both pixel values and metadata for NoData consistently.\n",
    "\n",
    "Watch out for integer + scale/offset in GeoTIFFs — convert to Float32 before alignment.\n",
    "\n",
    "Snap to discrete classes after all reprojection/resampling to prevent mid-values from creeping in."
   ]
  }
 ],
 "metadata": {
  "kernelspec": {
   "display_name": "pygeospatial",
   "language": "python",
   "name": "python3"
  },
  "language_info": {
   "codemirror_mode": {
    "name": "ipython",
    "version": 3
   },
   "file_extension": ".py",
   "mimetype": "text/x-python",
   "name": "python",
   "nbconvert_exporter": "python",
   "pygments_lexer": "ipython3",
   "version": "3.12.3"
  }
 },
 "nbformat": 4,
 "nbformat_minor": 5
}
