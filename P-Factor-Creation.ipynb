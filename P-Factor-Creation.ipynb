{
 "cells": [
  {
   "cell_type": "markdown",
   "id": "78ff6f63",
   "metadata": {},
   "source": [
    "# 1. Normalize the source to Float32 and apply scale/offset (if present)"
   ]
  },
  {
   "cell_type": "code",
   "execution_count": null,
   "id": "c96643ab",
   "metadata": {},
   "outputs": [
    {
     "name": "stdout",
     "output_type": "stream",
     "text": [
      "Done. Wrote: C:\\Users\\dplatero\\watem-sedem-master\\watem_sedem\\Beamon_Creek_Boyer_River\\Output\\BCR.rst\n"
     ]
    }
   ],
   "source": [
    "gdal_translate -ot Float32 -a_nodata 0 -unscale ^\n",
    "  \"...\\PFac.tif\" \"...\\PFac_float.tif\"\n"
   ]
  },
  {
   "cell_type": "markdown",
   "id": "fd2afc21",
   "metadata": {},
   "source": [
    "# 2. Align to DTM.rst grid (nearest-neighbor, keep NoData=0)"
   ]
  },
  {
   "cell_type": "code",
   "execution_count": null,
   "id": "7c6b80d7",
   "metadata": {},
   "outputs": [],
   "source": [
    "gdalwarp -r near -tap -dstnodata 0 -of GTiff ^\n",
    "  -te xmin ymin xmax ymax ^\n",
    "  -tr px abs(py) ^\n",
    "  -ts W H ^\n",
    "  -t_srs \"EPSG:XXXX\" ^\n",
    "  \"...\\PFac_float.tif\" \"...\\PFac_aligned.tif\""
   ]
  },
  {
   "cell_type": "markdown",
   "id": "6047bbd7",
   "metadata": {},
   "source": [
    "# 3. Convert to RST (Float32, NoData=0)"
   ]
  },
  {
   "cell_type": "code",
   "execution_count": null,
   "id": "161c8b1a",
   "metadata": {},
   "outputs": [],
   "source": [
    "gdal_translate -of RST -ot Float32 -a_nodata 0 ^\n",
    "  \"...\\PFac_aligned.tif\" \"...\\PFac_aligned.rst\"\n"
   ]
  },
  {
   "cell_type": "markdown",
   "id": "c12ab997",
   "metadata": {},
   "source": [
    "# 4. Clean and snap classes (Python)"
   ]
  },
  {
   "cell_type": "markdown",
   "id": "2a288f72",
   "metadata": {},
   "source": [
    "## 4.1 We then cleaned non-finite/out-of-range pixels and snapped to the allowed classes {0.02, 0.2, 0.6}"
   ]
  },
  {
   "cell_type": "code",
   "execution_count": null,
   "id": "31660430",
   "metadata": {},
   "outputs": [],
   "source": [
    "from osgeo import gdal\n",
    "import numpy as np\n",
    "\n",
    "in_rst  = r\"...\\PFac_aligned.rst\"\n",
    "out_rst = r\"...\\PFac_clean.rst\"\n",
    "\n",
    "ds = gdal.Open(in_rst, gdal.GA_ReadOnly)\n",
    "arr = ds.GetRasterBand(1).ReadAsArray().astype(np.float32)\n",
    "\n",
    "# Clean: non-finite → 0; outside [0,1] → 0 (treat as NoData)\n",
    "arr[~np.isfinite(arr)] = 0\n",
    "arr[(arr < 0) | (arr > 1)] = 0\n",
    "\n",
    "# Snap to known P classes\n",
    "classes = np.array([0.02, 0.2, 0.6], dtype=np.float32)\n",
    "mask = arr > 0\n",
    "if mask.any():\n",
    "    diffs = np.abs(arr[mask, None] - classes[None, :])\n",
    "    arr[mask] = classes[np.argmin(diffs, axis=1)]\n",
    "\n",
    "drv = gdal.GetDriverByName(\"RST\")\n",
    "out = drv.Create(out_rst, ds.RasterXSize, ds.RasterYSize, 1, gdal.GDT_Float32)\n",
    "out.SetGeoTransform(ds.GetGeoTransform())\n",
    "out.SetProjection(ds.GetProjection())\n",
    "b = out.GetRasterBand(1)\n",
    "b.WriteArray(arr)\n",
    "b.SetNoDataValue(0)\n",
    "b.FlushCache()\n",
    "out, ds = None, None\n",
    "\n",
    "print(\"Wrote:\", out_rst)\n"
   ]
  },
  {
   "cell_type": "markdown",
   "id": "7e75b086",
   "metadata": {},
   "source": [
    "# 5. Quality checks\n",
    "\n",
    "After each critical step:"
   ]
  },
  {
   "cell_type": "code",
   "execution_count": null,
   "id": "9bc1d3db",
   "metadata": {},
   "outputs": [],
   "source": [
    "gdalinfo -stats \"...\\PFac_clean.rst\" | ^\n",
    "  Select-String -Pattern \"Type\",\"NoData\",\"Size is\",\"Pixel Size\",\"Origin\",\"Coordinate System\",\"Minimum\",\"Maximum\",\"Mean\",\"StdDev\"\n"
   ]
  },
  {
   "cell_type": "markdown",
   "id": "16fda84e",
   "metadata": {},
   "source": [
    "## 5.1 \n",
    "Expect:\n",
    "\n",
    "Type=Float32\n",
    "\n",
    "NoData Value=0\n",
    "\n",
    "Minimum≈0.02, Maximum≈0.6\n",
    "\n",
    "CRS/extent/rows/cols/pixel size identical to DTM.rst\n",
    "\n",
    "No -inf or NaN\n",
    "\n",
    "If you ever see -9999 in stats → NoData wasn’t applied correctly.\n",
    "If you see 0/1 only → you missed -unscale or forced an integer type somewhere."
   ]
  },
  {
   "cell_type": "markdown",
   "id": "f1294c12",
   "metadata": {},
   "source": [
    "# 6. Repro tip (do it in one go)"
   ]
  },
  {
   "cell_type": "code",
   "execution_count": null,
   "id": "4295e2de",
   "metadata": {},
   "outputs": [],
   "source": [
    "REM 1) to float\n",
    "gdal_translate -ot Float32 -a_nodata 0 -unscale \"...\\PFac.tif\" \"...\\PFac_float.tif\"\n",
    "\n",
    "REM 2) align (nearest)\n",
    "gdalwarp -r near -tap -dstnodata 0 -of GTiff ^\n",
    "  -te xmin ymin xmax ymax -tr px abs(py) -ts W H -t_srs \"EPSG:XXXX\" ^\n",
    "  \"...\\PFac_float.tif\" \"...\\PFac_aligned.tif\"\n",
    "\n",
    "REM 3) to RST\n",
    "gdal_translate -of RST -ot Float32 -a_nodata 0 \"...\\PFac_aligned.tif\" \"...\\PFac_aligned.rst\"\n",
    "\n",
    "REM 4) clean (if needed)\n",
    "gdal_calc.py -A \"...\\PFac_aligned.rst\" --calc=\"where(isfinite(A)&(A>=0)&(A<=1),A,0)\" ^\n",
    "  --NoDataValue=0 --type=Float32 --format=RST --overwrite --outfile=\"...\\PFac_clean.rst\"\n"
   ]
  }
 ],
 "metadata": {
  "kernelspec": {
   "display_name": "pygeospatial",
   "language": "python",
   "name": "python3"
  },
  "language_info": {
   "codemirror_mode": {
    "name": "ipython",
    "version": 3
   },
   "file_extension": ".py",
   "mimetype": "text/x-python",
   "name": "python",
   "nbconvert_exporter": "python",
   "pygments_lexer": "ipython3",
   "version": "3.12.3"
  }
 },
 "nbformat": 4,
 "nbformat_minor": 5
}
